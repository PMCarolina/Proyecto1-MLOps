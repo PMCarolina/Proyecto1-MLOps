{
 "cells": [
  {
   "cell_type": "code",
   "execution_count": 1,
   "metadata": {},
   "outputs": [],
   "source": [
    "import pandas as pd\n",
    "from sklearn.feature_extraction.text import TfidfVectorizer\n",
    "from sklearn.metrics.pairwise import linear_kernel"
   ]
  },
  {
   "cell_type": "code",
   "execution_count": 2,
   "metadata": {},
   "outputs": [],
   "source": [
    "# Cargamos el dataframe\n",
    "\n",
    "muestra = pd.read_csv(r\"C:\\Users\\ignac\\OneDrive\\Escritorio\\Proyecto Individual 1\\HenryLabs-PIMLO\\Data\\modelo_muestra.csv\")"
   ]
  },
  {
   "cell_type": "code",
   "execution_count": 3,
   "metadata": {},
   "outputs": [
    {
     "data": {
      "text/html": [
       "<div>\n",
       "<style scoped>\n",
       "    .dataframe tbody tr th:only-of-type {\n",
       "        vertical-align: middle;\n",
       "    }\n",
       "\n",
       "    .dataframe tbody tr th {\n",
       "        vertical-align: top;\n",
       "    }\n",
       "\n",
       "    .dataframe thead th {\n",
       "        text-align: right;\n",
       "    }\n",
       "</style>\n",
       "<table border=\"1\" class=\"dataframe\">\n",
       "  <thead>\n",
       "    <tr style=\"text-align: right;\">\n",
       "      <th></th>\n",
       "      <th>title</th>\n",
       "      <th>genres_name</th>\n",
       "      <th>companies_names</th>\n",
       "      <th>director</th>\n",
       "    </tr>\n",
       "  </thead>\n",
       "  <tbody>\n",
       "    <tr>\n",
       "      <th>0</th>\n",
       "      <td>toy story</td>\n",
       "      <td>Animation, Comedy, Family</td>\n",
       "      <td>Pixar Animation Studios</td>\n",
       "      <td>John Lasseter</td>\n",
       "    </tr>\n",
       "    <tr>\n",
       "      <th>1</th>\n",
       "      <td>jumanji</td>\n",
       "      <td>Adventure, Fantasy, Family</td>\n",
       "      <td>TriStar Pictures, Teitler Film, Interscope Com...</td>\n",
       "      <td>Joe Johnston</td>\n",
       "    </tr>\n",
       "    <tr>\n",
       "      <th>2</th>\n",
       "      <td>grumpier old men</td>\n",
       "      <td>Romance, Comedy</td>\n",
       "      <td>Warner Bros., Lancaster Gate</td>\n",
       "      <td>Howard Deutch</td>\n",
       "    </tr>\n",
       "    <tr>\n",
       "      <th>3</th>\n",
       "      <td>waiting to exhale</td>\n",
       "      <td>Comedy, Drama, Romance</td>\n",
       "      <td>Twentieth Century Fox Film Corporation</td>\n",
       "      <td>Forest Whitaker</td>\n",
       "    </tr>\n",
       "    <tr>\n",
       "      <th>4</th>\n",
       "      <td>father of the bride part ii</td>\n",
       "      <td>Comedy</td>\n",
       "      <td>Sandollar Productions, Touchstone Pictures</td>\n",
       "      <td>Charles Shyer</td>\n",
       "    </tr>\n",
       "    <tr>\n",
       "      <th>...</th>\n",
       "      <td>...</td>\n",
       "      <td>...</td>\n",
       "      <td>...</td>\n",
       "      <td>...</td>\n",
       "    </tr>\n",
       "    <tr>\n",
       "      <th>4995</th>\n",
       "      <td>cattle queen of montana</td>\n",
       "      <td>Western</td>\n",
       "      <td>RKO Radio Pictures, Benedict Bogeaus Production</td>\n",
       "      <td>Allan Dwan</td>\n",
       "    </tr>\n",
       "    <tr>\n",
       "      <th>4996</th>\n",
       "      <td>under the skin</td>\n",
       "      <td>Drama</td>\n",
       "      <td>British Film Institute (BFI), Rouge Films, Str...</td>\n",
       "      <td>Carine Adler</td>\n",
       "    </tr>\n",
       "    <tr>\n",
       "      <th>4997</th>\n",
       "      <td>40 days and 40 nights</td>\n",
       "      <td>Comedy, Romance</td>\n",
       "      <td>Miramax Films, Universal Pictures, Working Tit...</td>\n",
       "      <td>Michael Lehmann</td>\n",
       "    </tr>\n",
       "    <tr>\n",
       "      <th>4998</th>\n",
       "      <td>we were soldiers</td>\n",
       "      <td>Action, History, War</td>\n",
       "      <td>Icon Entertainment International, Wheelhouse E...</td>\n",
       "      <td>Randall Wallace</td>\n",
       "    </tr>\n",
       "    <tr>\n",
       "      <th>4999</th>\n",
       "      <td>trouble every day</td>\n",
       "      <td>Drama, Horror</td>\n",
       "      <td>Rezo Films, Messaoud/a Films, Dacia Films, Kin...</td>\n",
       "      <td>Claire Denis</td>\n",
       "    </tr>\n",
       "  </tbody>\n",
       "</table>\n",
       "<p>5000 rows × 4 columns</p>\n",
       "</div>"
      ],
      "text/plain": [
       "                            title                 genres_name  \\\n",
       "0                       toy story   Animation, Comedy, Family   \n",
       "1                         jumanji  Adventure, Fantasy, Family   \n",
       "2                grumpier old men             Romance, Comedy   \n",
       "3               waiting to exhale      Comedy, Drama, Romance   \n",
       "4     father of the bride part ii                      Comedy   \n",
       "...                           ...                         ...   \n",
       "4995      cattle queen of montana                     Western   \n",
       "4996               under the skin                       Drama   \n",
       "4997        40 days and 40 nights             Comedy, Romance   \n",
       "4998             we were soldiers        Action, History, War   \n",
       "4999            trouble every day               Drama, Horror   \n",
       "\n",
       "                                        companies_names         director  \n",
       "0                               Pixar Animation Studios    John Lasseter  \n",
       "1     TriStar Pictures, Teitler Film, Interscope Com...     Joe Johnston  \n",
       "2                          Warner Bros., Lancaster Gate    Howard Deutch  \n",
       "3                Twentieth Century Fox Film Corporation  Forest Whitaker  \n",
       "4            Sandollar Productions, Touchstone Pictures    Charles Shyer  \n",
       "...                                                 ...              ...  \n",
       "4995    RKO Radio Pictures, Benedict Bogeaus Production       Allan Dwan  \n",
       "4996  British Film Institute (BFI), Rouge Films, Str...     Carine Adler  \n",
       "4997  Miramax Films, Universal Pictures, Working Tit...  Michael Lehmann  \n",
       "4998  Icon Entertainment International, Wheelhouse E...  Randall Wallace  \n",
       "4999  Rezo Films, Messaoud/a Films, Dacia Films, Kin...     Claire Denis  \n",
       "\n",
       "[5000 rows x 4 columns]"
      ]
     },
     "execution_count": 3,
     "metadata": {},
     "output_type": "execute_result"
    }
   ],
   "source": [
    "muestra"
   ]
  },
  {
   "cell_type": "code",
   "execution_count": 5,
   "metadata": {},
   "outputs": [],
   "source": [
    "#Seleccionamos columnas válidas y rellenamos valores nulos con cadenas vacías\n",
    "\n",
    "columnas_validas = ['title', 'genres_name', 'companies_names', 'director']\n",
    "muestra = muestra.fillna(\"\")"
   ]
  },
  {
   "cell_type": "code",
   "execution_count": 6,
   "metadata": {},
   "outputs": [],
   "source": [
    "# Combinamos las columnas \"genres_name, \"companies_names\" y \"director\"\n",
    "\n",
    "muestra['combined'] = muestra['genres_name'] + ' ' + muestra['companies_names'] + ' ' + muestra['director'] "
   ]
  },
  {
   "cell_type": "code",
   "execution_count": 7,
   "metadata": {},
   "outputs": [],
   "source": [
    "# Aplicamos TfidfVectorizer en la nueva columna combinada y calculamos la similitud del coseno\n",
    "\n",
    "tfidf = TfidfVectorizer(stop_words='english')\n",
    "tfidf_matrix = tfidf.fit_transform(muestra['combined'])\n",
    "\n",
    "cosine_similarity = linear_kernel(tfidf_matrix, tfidf_matrix)"
   ]
  },
  {
   "cell_type": "code",
   "execution_count": 8,
   "metadata": {},
   "outputs": [],
   "source": [
    "#Función de recomendación\n",
    "\n",
    "def recomendacion_movie(title: str):\n",
    "    title = title.lower()\n",
    "    if title not in muestra['title'].values:\n",
    "        return {'mensaje': 'No hay datos de la pelicula'}\n",
    "    \n",
    "    idx = muestra[muestra['title'] == title].index[0]\n",
    "    sim_cosine = list(enumerate(cosine_similarity[idx]))\n",
    "    sim_scores = sorted(sim_cosine, key=lambda x: x[1], reverse=True)\n",
    "    sim_ind = [i for i, _ in sim_scores[1:6]]\n",
    "    sim_movies = muestra['title'].iloc[sim_ind].values.tolist()\n",
    "    return {f'peliculas recomendados para {title}': list(sim_movies)}"
   ]
  },
  {
   "cell_type": "code",
   "execution_count": 9,
   "metadata": {},
   "outputs": [
    {
     "name": "stdout",
     "output_type": "stream",
     "text": [
      "{'peliculas recomendados para toy story': ['toy story 2', \"a bug's life\", 'monsters, inc.', 'jimmy neutron: boy genius', 'the swan princess']}\n"
     ]
    }
   ],
   "source": [
    "# Ejemplo de uso\n",
    "recomendacion = recomendacion_movie(\"toy story\")\n",
    "print(recomendacion)"
   ]
  }
 ],
 "metadata": {
  "kernelspec": {
   "display_name": "Python 3",
   "language": "python",
   "name": "python3"
  },
  "language_info": {
   "codemirror_mode": {
    "name": "ipython",
    "version": 3
   },
   "file_extension": ".py",
   "mimetype": "text/x-python",
   "name": "python",
   "nbconvert_exporter": "python",
   "pygments_lexer": "ipython3",
   "version": "3.12.2"
  }
 },
 "nbformat": 4,
 "nbformat_minor": 2
}
